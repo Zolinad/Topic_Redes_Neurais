{
  "nbformat": 4,
  "nbformat_minor": 0,
  "metadata": {
    "colab": {
      "provenance": [],
      "authorship_tag": "ABX9TyMKuRXTBQ3nYUZTjByBIpxX",
      "include_colab_link": true
    },
    "kernelspec": {
      "name": "python3",
      "display_name": "Python 3"
    },
    "language_info": {
      "name": "python"
    }
  },
  "cells": [
    {
      "cell_type": "markdown",
      "metadata": {
        "id": "view-in-github",
        "colab_type": "text"
      },
      "source": [
        "<a href=\"https://colab.research.google.com/github/Zolinad/Topic_Redes_Neurais/blob/main/v8_Admission.ipynb\" target=\"_parent\"><img src=\"https://colab.research.google.com/assets/colab-badge.svg\" alt=\"Open In Colab\"/></a>"
      ]
    },
    {
      "cell_type": "code",
      "execution_count": 2,
      "metadata": {
        "id": "iC1YARQtQ7d5"
      },
      "outputs": [],
      "source": [
        "import pandas as pd\n",
        "df = pd.read_csv('/content/v8_admission_dataset.csv')"
      ]
    },
    {
      "cell_type": "code",
      "source": [
        "# Divisão do dataset em treino e teste\n",
        "y = df['Chance of Admit ']\n",
        "x = df.drop('Chance of Admit ', axis = 1)\n",
        "x_treino, x_teste = x[0:300], x[300:]\n",
        "y_treino, y_teste = y[0:300], y[300:]"
      ],
      "metadata": {
        "id": "7uaY-KkzSL-2"
      },
      "execution_count": 3,
      "outputs": []
    },
    {
      "cell_type": "code",
      "source": [
        "# Quantidade de entradas\n",
        "q_entradas = x_treino.shape[1]"
      ],
      "metadata": {
        "id": "uaP1cEopydLb"
      },
      "execution_count": 4,
      "outputs": []
    },
    {
      "cell_type": "code",
      "source": [
        "from keras.models import Sequential\n",
        "from keras.layers import Dense\n",
        "\n",
        "# Criar a arquitetura da rede neural:\n",
        "modelo = Sequential()\n",
        "modelo.add(Dense(units=4, activation='relu', input_dim = q_entradas))\n",
        "modelo.add(Dense(units=4, activation='relu'))\n",
        "modelo.add(Dense(units=1, activation='linear'))"
      ],
      "metadata": {
        "colab": {
          "base_uri": "https://localhost:8080/"
        },
        "id": "yoAjlyAHS9Y-",
        "outputId": "03b94901-7b27-4072-8256-a1f84dc883d4"
      },
      "execution_count": 5,
      "outputs": [
        {
          "output_type": "stream",
          "name": "stderr",
          "text": [
            "/usr/local/lib/python3.10/dist-packages/keras/src/layers/core/dense.py:87: UserWarning: Do not pass an `input_shape`/`input_dim` argument to a layer. When using Sequential models, prefer using an `Input(shape)` object as the first layer in the model instead.\n",
            "  super().__init__(activity_regularizer=activity_regularizer, **kwargs)\n"
          ]
        }
      ]
    },
    {
      "cell_type": "code",
      "source": [
        "# Treinar o modelo\n",
        "modelo.compile(loss='mse', optimizer='adam', metrics=['mae'])\n",
        "resultado = modelo.fit(x_treino, y_treino, epochs=75,\n",
        "                       batch_size=40, validation_data=(x_teste, y_teste))"
      ],
      "metadata": {
        "colab": {
          "base_uri": "https://localhost:8080/"
        },
        "id": "blIxtUH7W-6c",
        "outputId": "c50da22c-d881-4f4d-e7c1-5e57c41a1d2e"
      },
      "execution_count": 6,
      "outputs": [
        {
          "output_type": "stream",
          "name": "stdout",
          "text": [
            "Epoch 1/75\n",
            "\u001b[1m8/8\u001b[0m \u001b[32m━━━━━━━━━━━━━━━━━━━━\u001b[0m\u001b[37m\u001b[0m \u001b[1m1s\u001b[0m 26ms/step - loss: 15858.6836 - mae: 125.7731 - val_loss: 13543.1729 - val_mae: 116.2915\n",
            "Epoch 2/75\n",
            "\u001b[1m8/8\u001b[0m \u001b[32m━━━━━━━━━━━━━━━━━━━━\u001b[0m\u001b[37m\u001b[0m \u001b[1m0s\u001b[0m 5ms/step - loss: 12709.4600 - mae: 112.5930 - val_loss: 10678.4414 - val_mae: 103.2623\n",
            "Epoch 3/75\n",
            "\u001b[1m8/8\u001b[0m \u001b[32m━━━━━━━━━━━━━━━━━━━━\u001b[0m\u001b[37m\u001b[0m \u001b[1m0s\u001b[0m 8ms/step - loss: 10027.6797 - mae: 99.9987 - val_loss: 8274.3633 - val_mae: 90.8980\n",
            "Epoch 4/75\n",
            "\u001b[1m8/8\u001b[0m \u001b[32m━━━━━━━━━━━━━━━━━━━━\u001b[0m\u001b[37m\u001b[0m \u001b[1m0s\u001b[0m 7ms/step - loss: 7693.3643 - mae: 87.5987 - val_loss: 6309.5293 - val_mae: 79.3749\n",
            "Epoch 5/75\n",
            "\u001b[1m8/8\u001b[0m \u001b[32m━━━━━━━━━━━━━━━━━━━━\u001b[0m\u001b[37m\u001b[0m \u001b[1m0s\u001b[0m 8ms/step - loss: 5867.3486 - mae: 76.4840 - val_loss: 4735.4014 - val_mae: 68.7636\n",
            "Epoch 6/75\n",
            "\u001b[1m8/8\u001b[0m \u001b[32m━━━━━━━━━━━━━━━━━━━━\u001b[0m\u001b[37m\u001b[0m \u001b[1m0s\u001b[0m 5ms/step - loss: 4376.4897 - mae: 66.0550 - val_loss: 3497.8450 - val_mae: 59.0980\n",
            "Epoch 7/75\n",
            "\u001b[1m8/8\u001b[0m \u001b[32m━━━━━━━━━━━━━━━━━━━━\u001b[0m\u001b[37m\u001b[0m \u001b[1m0s\u001b[0m 10ms/step - loss: 3239.4883 - mae: 56.8228 - val_loss: 2537.2290 - val_mae: 50.3315\n",
            "Epoch 8/75\n",
            "\u001b[1m8/8\u001b[0m \u001b[32m━━━━━━━━━━━━━━━━━━━━\u001b[0m\u001b[37m\u001b[0m \u001b[1m0s\u001b[0m 7ms/step - loss: 2330.5640 - mae: 48.1965 - val_loss: 1807.1205 - val_mae: 42.4747\n",
            "Epoch 9/75\n",
            "\u001b[1m8/8\u001b[0m \u001b[32m━━━━━━━━━━━━━━━━━━━━\u001b[0m\u001b[37m\u001b[0m \u001b[1m0s\u001b[0m 5ms/step - loss: 1651.5393 - mae: 40.5635 - val_loss: 1260.3414 - val_mae: 35.4685\n",
            "Epoch 10/75\n",
            "\u001b[1m8/8\u001b[0m \u001b[32m━━━━━━━━━━━━━━━━━━━━\u001b[0m\u001b[37m\u001b[0m \u001b[1m0s\u001b[0m 8ms/step - loss: 1144.5269 - mae: 33.7605 - val_loss: 859.4126 - val_mae: 29.2842\n",
            "Epoch 11/75\n",
            "\u001b[1m8/8\u001b[0m \u001b[32m━━━━━━━━━━━━━━━━━━━━\u001b[0m\u001b[37m\u001b[0m \u001b[1m0s\u001b[0m 5ms/step - loss: 781.7110 - mae: 27.8945 - val_loss: 571.1973 - val_mae: 23.8677\n",
            "Epoch 12/75\n",
            "\u001b[1m8/8\u001b[0m \u001b[32m━━━━━━━━━━━━━━━━━━━━\u001b[0m\u001b[37m\u001b[0m \u001b[1m0s\u001b[0m 8ms/step - loss: 514.6503 - mae: 22.6239 - val_loss: 369.5153 - val_mae: 19.1882\n",
            "Epoch 13/75\n",
            "\u001b[1m8/8\u001b[0m \u001b[32m━━━━━━━━━━━━━━━━━━━━\u001b[0m\u001b[37m\u001b[0m \u001b[1m0s\u001b[0m 6ms/step - loss: 333.4540 - mae: 18.1925 - val_loss: 231.9790 - val_mae: 15.1910\n",
            "Epoch 14/75\n",
            "\u001b[1m8/8\u001b[0m \u001b[32m━━━━━━━━━━━━━━━━━━━━\u001b[0m\u001b[37m\u001b[0m \u001b[1m0s\u001b[0m 6ms/step - loss: 208.3692 - mae: 14.3661 - val_loss: 140.9881 - val_mae: 11.8251\n",
            "Epoch 15/75\n",
            "\u001b[1m8/8\u001b[0m \u001b[32m━━━━━━━━━━━━━━━━━━━━\u001b[0m\u001b[37m\u001b[0m \u001b[1m0s\u001b[0m 6ms/step - loss: 126.8979 - mae: 11.1870 - val_loss: 83.6490 - val_mae: 9.0907\n",
            "Epoch 16/75\n",
            "\u001b[1m8/8\u001b[0m \u001b[32m━━━━━━━━━━━━━━━━━━━━\u001b[0m\u001b[37m\u001b[0m \u001b[1m0s\u001b[0m 8ms/step - loss: 75.2154 - mae: 8.6106 - val_loss: 53.8401 - val_mae: 7.2963\n",
            "Epoch 17/75\n",
            "\u001b[1m8/8\u001b[0m \u001b[32m━━━━━━━━━━━━━━━━━━━━\u001b[0m\u001b[37m\u001b[0m \u001b[1m0s\u001b[0m 8ms/step - loss: 49.3489 - mae: 6.9754 - val_loss: 38.1728 - val_mae: 6.1389\n",
            "Epoch 18/75\n",
            "\u001b[1m8/8\u001b[0m \u001b[32m━━━━━━━━━━━━━━━━━━━━\u001b[0m\u001b[37m\u001b[0m \u001b[1m0s\u001b[0m 7ms/step - loss: 36.3826 - mae: 5.9790 - val_loss: 27.9588 - val_mae: 5.2440\n",
            "Epoch 19/75\n",
            "\u001b[1m8/8\u001b[0m \u001b[32m━━━━━━━━━━━━━━━━━━━━\u001b[0m\u001b[37m\u001b[0m \u001b[1m0s\u001b[0m 6ms/step - loss: 26.4923 - mae: 5.0967 - val_loss: 20.7542 - val_mae: 4.5066\n",
            "Epoch 20/75\n",
            "\u001b[1m8/8\u001b[0m \u001b[32m━━━━━━━━━━━━━━━━━━━━\u001b[0m\u001b[37m\u001b[0m \u001b[1m0s\u001b[0m 5ms/step - loss: 19.3646 - mae: 4.3501 - val_loss: 15.4909 - val_mae: 3.8794\n",
            "Epoch 21/75\n",
            "\u001b[1m8/8\u001b[0m \u001b[32m━━━━━━━━━━━━━━━━━━━━\u001b[0m\u001b[37m\u001b[0m \u001b[1m0s\u001b[0m 8ms/step - loss: 14.6561 - mae: 3.7637 - val_loss: 11.5635 - val_mae: 3.3348\n",
            "Epoch 22/75\n",
            "\u001b[1m8/8\u001b[0m \u001b[32m━━━━━━━━━━━━━━━━━━━━\u001b[0m\u001b[37m\u001b[0m \u001b[1m0s\u001b[0m 6ms/step - loss: 10.9564 - mae: 3.2346 - val_loss: 8.5999 - val_mae: 2.8558\n",
            "Epoch 23/75\n",
            "\u001b[1m8/8\u001b[0m \u001b[32m━━━━━━━━━━━━━━━━━━━━\u001b[0m\u001b[37m\u001b[0m \u001b[1m0s\u001b[0m 6ms/step - loss: 8.2771 - mae: 2.7976 - val_loss: 6.3775 - val_mae: 2.4353\n",
            "Epoch 24/75\n",
            "\u001b[1m8/8\u001b[0m \u001b[32m━━━━━━━━━━━━━━━━━━━━\u001b[0m\u001b[37m\u001b[0m \u001b[1m0s\u001b[0m 5ms/step - loss: 6.1358 - mae: 2.3835 - val_loss: 4.7191 - val_mae: 2.0664\n",
            "Epoch 25/75\n",
            "\u001b[1m8/8\u001b[0m \u001b[32m━━━━━━━━━━━━━━━━━━━━\u001b[0m\u001b[37m\u001b[0m \u001b[1m0s\u001b[0m 6ms/step - loss: 4.7375 - mae: 2.0596 - val_loss: 3.5032 - val_mae: 1.7525\n",
            "Epoch 26/75\n",
            "\u001b[1m8/8\u001b[0m \u001b[32m━━━━━━━━━━━━━━━━━━━━\u001b[0m\u001b[37m\u001b[0m \u001b[1m0s\u001b[0m 5ms/step - loss: 3.3927 - mae: 1.7207 - val_loss: 2.6269 - val_mae: 1.4920\n",
            "Epoch 27/75\n",
            "\u001b[1m8/8\u001b[0m \u001b[32m━━━━━━━━━━━━━━━━━━━━\u001b[0m\u001b[37m\u001b[0m \u001b[1m0s\u001b[0m 5ms/step - loss: 2.6591 - mae: 1.4999 - val_loss: 2.0216 - val_mae: 1.2935\n",
            "Epoch 28/75\n",
            "\u001b[1m8/8\u001b[0m \u001b[32m━━━━━━━━━━━━━━━━━━━━\u001b[0m\u001b[37m\u001b[0m \u001b[1m0s\u001b[0m 5ms/step - loss: 2.1182 - mae: 1.3328 - val_loss: 1.6096 - val_mae: 1.1482\n",
            "Epoch 29/75\n",
            "\u001b[1m8/8\u001b[0m \u001b[32m━━━━━━━━━━━━━━━━━━━━\u001b[0m\u001b[37m\u001b[0m \u001b[1m0s\u001b[0m 8ms/step - loss: 1.4969 - mae: 1.1033 - val_loss: 1.3205 - val_mae: 1.0365\n",
            "Epoch 30/75\n",
            "\u001b[1m8/8\u001b[0m \u001b[32m━━━━━━━━━━━━━━━━━━━━\u001b[0m\u001b[37m\u001b[0m \u001b[1m0s\u001b[0m 7ms/step - loss: 1.3750 - mae: 1.0553 - val_loss: 1.1177 - val_mae: 0.9529\n",
            "Epoch 31/75\n",
            "\u001b[1m8/8\u001b[0m \u001b[32m━━━━━━━━━━━━━━━━━━━━\u001b[0m\u001b[37m\u001b[0m \u001b[1m0s\u001b[0m 6ms/step - loss: 1.1771 - mae: 0.9830 - val_loss: 0.9815 - val_mae: 0.8951\n",
            "Epoch 32/75\n",
            "\u001b[1m8/8\u001b[0m \u001b[32m━━━━━━━━━━━━━━━━━━━━\u001b[0m\u001b[37m\u001b[0m \u001b[1m0s\u001b[0m 8ms/step - loss: 1.1044 - mae: 0.9501 - val_loss: 0.8866 - val_mae: 0.8550\n",
            "Epoch 33/75\n",
            "\u001b[1m8/8\u001b[0m \u001b[32m━━━━━━━━━━━━━━━━━━━━\u001b[0m\u001b[37m\u001b[0m \u001b[1m0s\u001b[0m 5ms/step - loss: 0.9135 - mae: 0.8690 - val_loss: 0.8164 - val_mae: 0.8253\n",
            "Epoch 34/75\n",
            "\u001b[1m8/8\u001b[0m \u001b[32m━━━━━━━━━━━━━━━━━━━━\u001b[0m\u001b[37m\u001b[0m \u001b[1m0s\u001b[0m 5ms/step - loss: 0.8487 - mae: 0.8469 - val_loss: 0.7607 - val_mae: 0.8010\n",
            "Epoch 35/75\n",
            "\u001b[1m8/8\u001b[0m \u001b[32m━━━━━━━━━━━━━━━━━━━━\u001b[0m\u001b[37m\u001b[0m \u001b[1m0s\u001b[0m 5ms/step - loss: 0.8015 - mae: 0.8203 - val_loss: 0.7184 - val_mae: 0.7827\n",
            "Epoch 36/75\n",
            "\u001b[1m8/8\u001b[0m \u001b[32m━━━━━━━━━━━━━━━━━━━━\u001b[0m\u001b[37m\u001b[0m \u001b[1m0s\u001b[0m 6ms/step - loss: 0.7675 - mae: 0.8059 - val_loss: 0.6854 - val_mae: 0.7683\n",
            "Epoch 37/75\n",
            "\u001b[1m8/8\u001b[0m \u001b[32m━━━━━━━━━━━━━━━━━━━━\u001b[0m\u001b[37m\u001b[0m \u001b[1m0s\u001b[0m 8ms/step - loss: 0.7106 - mae: 0.7815 - val_loss: 0.6591 - val_mae: 0.7566\n",
            "Epoch 38/75\n",
            "\u001b[1m8/8\u001b[0m \u001b[32m━━━━━━━━━━━━━━━━━━━━\u001b[0m\u001b[37m\u001b[0m \u001b[1m0s\u001b[0m 6ms/step - loss: 0.6704 - mae: 0.7658 - val_loss: 0.6359 - val_mae: 0.7459\n",
            "Epoch 39/75\n",
            "\u001b[1m8/8\u001b[0m \u001b[32m━━━━━━━━━━━━━━━━━━━━\u001b[0m\u001b[37m\u001b[0m \u001b[1m0s\u001b[0m 8ms/step - loss: 0.6273 - mae: 0.7467 - val_loss: 0.6162 - val_mae: 0.7366\n",
            "Epoch 40/75\n",
            "\u001b[1m8/8\u001b[0m \u001b[32m━━━━━━━━━━━━━━━━━━━━\u001b[0m\u001b[37m\u001b[0m \u001b[1m0s\u001b[0m 7ms/step - loss: 0.6283 - mae: 0.7384 - val_loss: 0.5983 - val_mae: 0.7279\n",
            "Epoch 41/75\n",
            "\u001b[1m8/8\u001b[0m \u001b[32m━━━━━━━━━━━━━━━━━━━━\u001b[0m\u001b[37m\u001b[0m \u001b[1m0s\u001b[0m 8ms/step - loss: 0.6122 - mae: 0.7372 - val_loss: 0.5832 - val_mae: 0.7204\n",
            "Epoch 42/75\n",
            "\u001b[1m8/8\u001b[0m \u001b[32m━━━━━━━━━━━━━━━━━━━━\u001b[0m\u001b[37m\u001b[0m \u001b[1m0s\u001b[0m 5ms/step - loss: 0.5909 - mae: 0.7177 - val_loss: 0.5702 - val_mae: 0.7139\n",
            "Epoch 43/75\n",
            "\u001b[1m8/8\u001b[0m \u001b[32m━━━━━━━━━━━━━━━━━━━━\u001b[0m\u001b[37m\u001b[0m \u001b[1m0s\u001b[0m 5ms/step - loss: 0.6310 - mae: 0.7426 - val_loss: 0.5580 - val_mae: 0.7076\n",
            "Epoch 44/75\n",
            "\u001b[1m8/8\u001b[0m \u001b[32m━━━━━━━━━━━━━━━━━━━━\u001b[0m\u001b[37m\u001b[0m \u001b[1m0s\u001b[0m 5ms/step - loss: 0.5821 - mae: 0.7187 - val_loss: 0.5474 - val_mae: 0.7019\n",
            "Epoch 45/75\n",
            "\u001b[1m8/8\u001b[0m \u001b[32m━━━━━━━━━━━━━━━━━━━━\u001b[0m\u001b[37m\u001b[0m \u001b[1m0s\u001b[0m 8ms/step - loss: 0.5646 - mae: 0.7123 - val_loss: 0.5379 - val_mae: 0.6967\n",
            "Epoch 46/75\n",
            "\u001b[1m8/8\u001b[0m \u001b[32m━━━━━━━━━━━━━━━━━━━━\u001b[0m\u001b[37m\u001b[0m \u001b[1m0s\u001b[0m 6ms/step - loss: 0.5906 - mae: 0.7252 - val_loss: 0.5293 - val_mae: 0.6920\n",
            "Epoch 47/75\n",
            "\u001b[1m8/8\u001b[0m \u001b[32m━━━━━━━━━━━━━━━━━━━━\u001b[0m\u001b[37m\u001b[0m \u001b[1m0s\u001b[0m 5ms/step - loss: 0.5753 - mae: 0.7124 - val_loss: 0.5219 - val_mae: 0.6879\n",
            "Epoch 48/75\n",
            "\u001b[1m8/8\u001b[0m \u001b[32m━━━━━━━━━━━━━━━━━━━━\u001b[0m\u001b[37m\u001b[0m \u001b[1m0s\u001b[0m 6ms/step - loss: 0.5219 - mae: 0.6905 - val_loss: 0.5152 - val_mae: 0.6842\n",
            "Epoch 49/75\n",
            "\u001b[1m8/8\u001b[0m \u001b[32m━━━━━━━━━━━━━━━━━━━━\u001b[0m\u001b[37m\u001b[0m \u001b[1m0s\u001b[0m 8ms/step - loss: 0.5240 - mae: 0.6920 - val_loss: 0.5091 - val_mae: 0.6808\n",
            "Epoch 50/75\n",
            "\u001b[1m8/8\u001b[0m \u001b[32m━━━━━━━━━━━━━━━━━━━━\u001b[0m\u001b[37m\u001b[0m \u001b[1m0s\u001b[0m 6ms/step - loss: 0.5545 - mae: 0.7067 - val_loss: 0.5033 - val_mae: 0.6776\n",
            "Epoch 51/75\n",
            "\u001b[1m8/8\u001b[0m \u001b[32m━━━━━━━━━━━━━━━━━━━━\u001b[0m\u001b[37m\u001b[0m \u001b[1m0s\u001b[0m 7ms/step - loss: 0.5184 - mae: 0.6886 - val_loss: 0.4982 - val_mae: 0.6748\n",
            "Epoch 52/75\n",
            "\u001b[1m8/8\u001b[0m \u001b[32m━━━━━━━━━━━━━━━━━━━━\u001b[0m\u001b[37m\u001b[0m \u001b[1m0s\u001b[0m 6ms/step - loss: 0.5040 - mae: 0.6779 - val_loss: 0.4933 - val_mae: 0.6720\n",
            "Epoch 53/75\n",
            "\u001b[1m8/8\u001b[0m \u001b[32m━━━━━━━━━━━━━━━━━━━━\u001b[0m\u001b[37m\u001b[0m \u001b[1m0s\u001b[0m 5ms/step - loss: 0.5019 - mae: 0.6799 - val_loss: 0.4888 - val_mae: 0.6694\n",
            "Epoch 54/75\n",
            "\u001b[1m8/8\u001b[0m \u001b[32m━━━━━━━━━━━━━━━━━━━━\u001b[0m\u001b[37m\u001b[0m \u001b[1m0s\u001b[0m 8ms/step - loss: 0.5058 - mae: 0.6827 - val_loss: 0.4850 - val_mae: 0.6672\n",
            "Epoch 55/75\n",
            "\u001b[1m8/8\u001b[0m \u001b[32m━━━━━━━━━━━━━━━━━━━━\u001b[0m\u001b[37m\u001b[0m \u001b[1m0s\u001b[0m 5ms/step - loss: 0.4871 - mae: 0.6711 - val_loss: 0.4814 - val_mae: 0.6651\n",
            "Epoch 56/75\n",
            "\u001b[1m8/8\u001b[0m \u001b[32m━━━━━━━━━━━━━━━━━━━━\u001b[0m\u001b[37m\u001b[0m \u001b[1m0s\u001b[0m 8ms/step - loss: 0.4932 - mae: 0.6756 - val_loss: 0.4782 - val_mae: 0.6633\n",
            "Epoch 57/75\n",
            "\u001b[1m8/8\u001b[0m \u001b[32m━━━━━━━━━━━━━━━━━━━━\u001b[0m\u001b[37m\u001b[0m \u001b[1m0s\u001b[0m 5ms/step - loss: 0.4771 - mae: 0.6682 - val_loss: 0.4755 - val_mae: 0.6618\n",
            "Epoch 58/75\n",
            "\u001b[1m8/8\u001b[0m \u001b[32m━━━━━━━━━━━━━━━━━━━━\u001b[0m\u001b[37m\u001b[0m \u001b[1m0s\u001b[0m 7ms/step - loss: 0.4701 - mae: 0.6577 - val_loss: 0.4729 - val_mae: 0.6605\n",
            "Epoch 59/75\n",
            "\u001b[1m8/8\u001b[0m \u001b[32m━━━━━━━━━━━━━━━━━━━━\u001b[0m\u001b[37m\u001b[0m \u001b[1m0s\u001b[0m 5ms/step - loss: 0.4835 - mae: 0.6662 - val_loss: 0.4704 - val_mae: 0.6591\n",
            "Epoch 60/75\n",
            "\u001b[1m8/8\u001b[0m \u001b[32m━━━━━━━━━━━━━━━━━━━━\u001b[0m\u001b[37m\u001b[0m \u001b[1m0s\u001b[0m 8ms/step - loss: 0.4585 - mae: 0.6553 - val_loss: 0.4682 - val_mae: 0.6578\n",
            "Epoch 61/75\n",
            "\u001b[1m8/8\u001b[0m \u001b[32m━━━━━━━━━━━━━━━━━━━━\u001b[0m\u001b[37m\u001b[0m \u001b[1m0s\u001b[0m 5ms/step - loss: 0.4804 - mae: 0.6704 - val_loss: 0.4657 - val_mae: 0.6564\n",
            "Epoch 62/75\n",
            "\u001b[1m8/8\u001b[0m \u001b[32m━━━━━━━━━━━━━━━━━━━━\u001b[0m\u001b[37m\u001b[0m \u001b[1m0s\u001b[0m 8ms/step - loss: 0.4640 - mae: 0.6583 - val_loss: 0.4638 - val_mae: 0.6554\n",
            "Epoch 63/75\n",
            "\u001b[1m8/8\u001b[0m \u001b[32m━━━━━━━━━━━━━━━━━━━━\u001b[0m\u001b[37m\u001b[0m \u001b[1m0s\u001b[0m 5ms/step - loss: 0.4710 - mae: 0.6640 - val_loss: 0.4621 - val_mae: 0.6546\n",
            "Epoch 64/75\n",
            "\u001b[1m8/8\u001b[0m \u001b[32m━━━━━━━━━━━━━━━━━━━━\u001b[0m\u001b[37m\u001b[0m \u001b[1m0s\u001b[0m 8ms/step - loss: 0.4946 - mae: 0.6728 - val_loss: 0.4603 - val_mae: 0.6537\n",
            "Epoch 65/75\n",
            "\u001b[1m8/8\u001b[0m \u001b[32m━━━━━━━━━━━━━━━━━━━━\u001b[0m\u001b[37m\u001b[0m \u001b[1m0s\u001b[0m 6ms/step - loss: 0.4406 - mae: 0.6433 - val_loss: 0.4589 - val_mae: 0.6529\n",
            "Epoch 66/75\n",
            "\u001b[1m8/8\u001b[0m \u001b[32m━━━━━━━━━━━━━━━━━━━━\u001b[0m\u001b[37m\u001b[0m \u001b[1m0s\u001b[0m 6ms/step - loss: 0.4613 - mae: 0.6549 - val_loss: 0.4573 - val_mae: 0.6521\n",
            "Epoch 67/75\n",
            "\u001b[1m8/8\u001b[0m \u001b[32m━━━━━━━━━━━━━━━━━━━━\u001b[0m\u001b[37m\u001b[0m \u001b[1m0s\u001b[0m 9ms/step - loss: 0.4447 - mae: 0.6445 - val_loss: 0.4558 - val_mae: 0.6513\n",
            "Epoch 68/75\n",
            "\u001b[1m8/8\u001b[0m \u001b[32m━━━━━━━━━━━━━━━━━━━━\u001b[0m\u001b[37m\u001b[0m \u001b[1m0s\u001b[0m 8ms/step - loss: 0.4672 - mae: 0.6583 - val_loss: 0.4542 - val_mae: 0.6504\n",
            "Epoch 69/75\n",
            "\u001b[1m8/8\u001b[0m \u001b[32m━━━━━━━━━━━━━━━━━━━━\u001b[0m\u001b[37m\u001b[0m \u001b[1m0s\u001b[0m 5ms/step - loss: 0.4623 - mae: 0.6598 - val_loss: 0.4529 - val_mae: 0.6497\n",
            "Epoch 70/75\n",
            "\u001b[1m8/8\u001b[0m \u001b[32m━━━━━━━━━━━━━━━━━━━━\u001b[0m\u001b[37m\u001b[0m \u001b[1m0s\u001b[0m 8ms/step - loss: 0.4714 - mae: 0.6618 - val_loss: 0.4515 - val_mae: 0.6489\n",
            "Epoch 71/75\n",
            "\u001b[1m8/8\u001b[0m \u001b[32m━━━━━━━━━━━━━━━━━━━━\u001b[0m\u001b[37m\u001b[0m \u001b[1m0s\u001b[0m 5ms/step - loss: 0.4526 - mae: 0.6504 - val_loss: 0.4502 - val_mae: 0.6481\n",
            "Epoch 72/75\n",
            "\u001b[1m8/8\u001b[0m \u001b[32m━━━━━━━━━━━━━━━━━━━━\u001b[0m\u001b[37m\u001b[0m \u001b[1m0s\u001b[0m 6ms/step - loss: 0.4499 - mae: 0.6469 - val_loss: 0.4489 - val_mae: 0.6474\n",
            "Epoch 73/75\n",
            "\u001b[1m8/8\u001b[0m \u001b[32m━━━━━━━━━━━━━━━━━━━━\u001b[0m\u001b[37m\u001b[0m \u001b[1m0s\u001b[0m 8ms/step - loss: 0.4454 - mae: 0.6474 - val_loss: 0.4478 - val_mae: 0.6468\n",
            "Epoch 74/75\n",
            "\u001b[1m8/8\u001b[0m \u001b[32m━━━━━━━━━━━━━━━━━━━━\u001b[0m\u001b[37m\u001b[0m \u001b[1m0s\u001b[0m 5ms/step - loss: 0.4535 - mae: 0.6507 - val_loss: 0.4469 - val_mae: 0.6462\n",
            "Epoch 75/75\n",
            "\u001b[1m8/8\u001b[0m \u001b[32m━━━━━━━━━━━━━━━━━━━━\u001b[0m\u001b[37m\u001b[0m \u001b[1m0s\u001b[0m 5ms/step - loss: 0.4606 - mae: 0.6545 - val_loss: 0.4460 - val_mae: 0.6457\n"
          ]
        }
      ]
    },
    {
      "cell_type": "code",
      "source": [
        "# Plotando o gráfico do histórico de treinamento\n",
        "import matplotlib.pyplot as plt\n",
        "plt.plot(resultado.history['loss'])\n",
        "plt.plot(resultado.history['val_loss'])\n",
        "plt.title('Histórico de Treinamento')\n",
        "plt.ylabel('Função Custo')\n",
        "plt.xlabel('Épocas de Treinamento')\n",
        "plt.legend(['Erro treino', 'Erro teste'])\n",
        "plt.show()"
      ],
      "metadata": {
        "colab": {
          "base_uri": "https://localhost:8080/",
          "height": 474
        },
        "id": "HUUnaCZpW6uC",
        "outputId": "8f51d112-8eb2-4039-b036-80378ec0bc62"
      },
      "execution_count": 7,
      "outputs": [
        {
          "output_type": "display_data",
          "data": {
            "text/plain": [
              "<Figure size 640x480 with 1 Axes>"
            ],
            "image/png": "[encoded data removed]"
          },
          "metadata": {}
        }
      ]
    }
  ]
}